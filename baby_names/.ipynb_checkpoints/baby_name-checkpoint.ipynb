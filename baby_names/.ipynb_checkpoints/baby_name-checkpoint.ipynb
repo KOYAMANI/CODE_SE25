{
 "cells": [
  {
   "cell_type": "code",
   "execution_count": 3,
   "id": "70e349a6-3ec9-482e-9978-3ff1726f23b5",
   "metadata": {},
   "outputs": [],
   "source": [
    "# Task 1¶\n",
    "# - How many columns are there? => 3 Columns \n",
    "# - How are colums separated? => Name, Gender, number of children \n",
    "# - Is there a header on top of the files? => No"
   ]
  },
  {
   "cell_type": "code",
   "execution_count": 4,
   "id": "fd022eee-9a8b-4536-8e6e-3f1f0dabc7f8",
   "metadata": {},
   "outputs": [],
   "source": [
    "import pandas as pd"
   ]
  },
  {
   "cell_type": "code",
   "execution_count": 5,
   "id": "87a14161-5949-4776-b04a-9958d903a1a8",
   "metadata": {},
   "outputs": [],
   "source": [
    "# Task 2: Read the file 'yob2021.txt' into pandas."
   ]
  },
  {
   "cell_type": "code",
   "execution_count": 6,
   "id": "fe4b9f57-1376-4a9d-8adb-7eab0dc857a0",
   "metadata": {},
   "outputs": [],
   "source": [
    "df = pd.read_csv('names/yob2021.txt',names=['name', 'gender', 'number'])"
   ]
  },
  {
   "cell_type": "code",
   "execution_count": 7,
   "id": "933be754-befa-4a95-8ac1-952493a22c1a",
   "metadata": {},
   "outputs": [],
   "source": [
    "# Task 3: Print the first 10 rows"
   ]
  },
  {
   "cell_type": "code",
   "execution_count": 8,
   "id": "4cb2374b-0d3e-4d48-833d-ed2dee5264e1",
   "metadata": {},
   "outputs": [
    {
     "name": "stdout",
     "output_type": "stream",
     "text": [
      "        name gender  number\n",
      "0     Olivia      F   17728\n",
      "1       Emma      F   15433\n",
      "2  Charlotte      F   13285\n",
      "3     Amelia      F   12952\n",
      "4        Ava      F   12759\n",
      "5     Sophia      F   12496\n",
      "6   Isabella      F   11201\n",
      "7        Mia      F   11096\n",
      "8     Evelyn      F    9434\n",
      "9     Harper      F    8388\n"
     ]
    }
   ],
   "source": [
    "result = df.head(10)\n",
    "print(result)"
   ]
  },
  {
   "cell_type": "code",
   "execution_count": 9,
   "id": "aeece0dc-b2bf-42f8-8629-873388c891a3",
   "metadata": {},
   "outputs": [],
   "source": [
    "# Task 4: Display the number of rows and columns."
   ]
  },
  {
   "cell_type": "code",
   "execution_count": 10,
   "id": "4219c761-6b53-44a5-b718-f22341e8185b",
   "metadata": {},
   "outputs": [
    {
     "name": "stdout",
     "output_type": "stream",
     "text": [
      "(31537, 3)\n"
     ]
    }
   ],
   "source": [
    "shape = df.shape\n",
    "print(shape)"
   ]
  },
  {
   "cell_type": "code",
   "execution_count": 11,
   "id": "49535c96-145c-4c4a-8339-f53691178005",
   "metadata": {},
   "outputs": [],
   "source": [
    "# Task 5: Calculate the total number of babies born in 2021, i.e. the sum of the third column."
   ]
  },
  {
   "cell_type": "code",
   "execution_count": 12,
   "id": "bf1f65e6-039f-4f94-a8f1-6043cf8c25b3",
   "metadata": {},
   "outputs": [
    {
     "name": "stdout",
     "output_type": "stream",
     "text": [
      "3361375\n"
     ]
    }
   ],
   "source": [
    "ttl = df['number'].sum()\n",
    "print(ttl)"
   ]
  },
  {
   "cell_type": "code",
   "execution_count": 13,
   "id": "e550c439-210f-490d-bcf5-a5dc924bc84f",
   "metadata": {},
   "outputs": [],
   "source": [
    "# Task 6: Like Task 5, but calculate the sum for boys and girls separately."
   ]
  },
  {
   "cell_type": "code",
   "execution_count": 14,
   "id": "954447bf-fa79-4f19-88ff-9fcc4cc7a93d",
   "metadata": {},
   "outputs": [
    {
     "name": "stdout",
     "output_type": "stream",
     "text": [
      "gender\n",
      "F    17544\n",
      "M    13993\n",
      "Name: number, dtype: int64\n"
     ]
    }
   ],
   "source": [
    "ttl_by_gender = df.groupby('gender')['number'].count()\n",
    "print(ttl_by_gender)"
   ]
  },
  {
   "cell_type": "code",
   "execution_count": 15,
   "id": "4e55fc21-a65d-4711-b57a-ca786c89212d",
   "metadata": {},
   "outputs": [],
   "source": [
    "# Task 7: Check if your name occurs in the data."
   ]
  },
  {
   "cell_type": "code",
   "execution_count": 16,
   "id": "11672d38-c894-4270-9f5c-5e0556c07281",
   "metadata": {},
   "outputs": [
    {
     "data": {
      "text/html": [
       "<div>\n",
       "<style scoped>\n",
       "    .dataframe tbody tr th:only-of-type {\n",
       "        vertical-align: middle;\n",
       "    }\n",
       "\n",
       "    .dataframe tbody tr th {\n",
       "        vertical-align: top;\n",
       "    }\n",
       "\n",
       "    .dataframe thead th {\n",
       "        text-align: right;\n",
       "    }\n",
       "</style>\n",
       "<table border=\"1\" class=\"dataframe\">\n",
       "  <thead>\n",
       "    <tr style=\"text-align: right;\">\n",
       "      <th></th>\n",
       "      <th>name</th>\n",
       "      <th>gender</th>\n",
       "      <th>number</th>\n",
       "    </tr>\n",
       "  </thead>\n",
       "  <tbody>\n",
       "  </tbody>\n",
       "</table>\n",
       "</div>"
      ],
      "text/plain": [
       "Empty DataFrame\n",
       "Columns: [name, gender, number]\n",
       "Index: []"
      ]
     },
     "execution_count": 16,
     "metadata": {},
     "output_type": "execute_result"
    }
   ],
   "source": [
    "df[df['name'] == 'Yutaro']"
   ]
  },
  {
   "cell_type": "code",
   "execution_count": 17,
   "id": "d076e972-43c1-4bcd-b4cc-29c0f76c652c",
   "metadata": {},
   "outputs": [],
   "source": [
    "# Task 8: Calculate the percentage of girls and boys among the total births."
   ]
  },
  {
   "cell_type": "code",
   "execution_count": 18,
   "id": "04ac6c33-bec9-47c7-86a0-c44da62f3450",
   "metadata": {},
   "outputs": [
    {
     "data": {
      "text/plain": [
       "gender\n",
       "F    48.405727\n",
       "M    51.594273\n",
       "Name: number, dtype: float64"
      ]
     },
     "execution_count": 18,
     "metadata": {},
     "output_type": "execute_result"
    }
   ],
   "source": [
    "(df.groupby('gender')['number'].sum() / df['number'].sum()) * 100"
   ]
  },
  {
   "cell_type": "code",
   "execution_count": 19,
   "id": "c30b19a2-c410-4cc9-87ee-c00f46279d8f",
   "metadata": {},
   "outputs": [],
   "source": [
    "# Task 9: Create a table that contains the top 5 girls names and top 5 boys names"
   ]
  },
  {
   "cell_type": "code",
   "execution_count": 20,
   "id": "3bb38856-1d32-4653-b590-04ec326564ae",
   "metadata": {},
   "outputs": [
    {
     "data": {
      "text/html": [
       "<div>\n",
       "<style scoped>\n",
       "    .dataframe tbody tr th:only-of-type {\n",
       "        vertical-align: middle;\n",
       "    }\n",
       "\n",
       "    .dataframe tbody tr th {\n",
       "        vertical-align: top;\n",
       "    }\n",
       "\n",
       "    .dataframe thead th {\n",
       "        text-align: right;\n",
       "    }\n",
       "</style>\n",
       "<table border=\"1\" class=\"dataframe\">\n",
       "  <thead>\n",
       "    <tr style=\"text-align: right;\">\n",
       "      <th></th>\n",
       "      <th>name</th>\n",
       "      <th>gender</th>\n",
       "      <th>number</th>\n",
       "    </tr>\n",
       "  </thead>\n",
       "  <tbody>\n",
       "    <tr>\n",
       "      <th>0</th>\n",
       "      <td>Olivia</td>\n",
       "      <td>F</td>\n",
       "      <td>17728</td>\n",
       "    </tr>\n",
       "    <tr>\n",
       "      <th>1</th>\n",
       "      <td>Emma</td>\n",
       "      <td>F</td>\n",
       "      <td>15433</td>\n",
       "    </tr>\n",
       "    <tr>\n",
       "      <th>2</th>\n",
       "      <td>Charlotte</td>\n",
       "      <td>F</td>\n",
       "      <td>13285</td>\n",
       "    </tr>\n",
       "    <tr>\n",
       "      <th>3</th>\n",
       "      <td>Amelia</td>\n",
       "      <td>F</td>\n",
       "      <td>12952</td>\n",
       "    </tr>\n",
       "    <tr>\n",
       "      <th>4</th>\n",
       "      <td>Ava</td>\n",
       "      <td>F</td>\n",
       "      <td>12759</td>\n",
       "    </tr>\n",
       "  </tbody>\n",
       "</table>\n",
       "</div>"
      ],
      "text/plain": [
       "        name gender  number\n",
       "0     Olivia      F   17728\n",
       "1       Emma      F   15433\n",
       "2  Charlotte      F   13285\n",
       "3     Amelia      F   12952\n",
       "4        Ava      F   12759"
      ]
     },
     "execution_count": 20,
     "metadata": {},
     "output_type": "execute_result"
    }
   ],
   "source": [
    "df_female = df[df['gender'] == 'F'].nlargest(n=5, columns=['number'])\n",
    "df_female"
   ]
  },
  {
   "cell_type": "code",
   "execution_count": 21,
   "id": "8335ed0d-5f38-4eb2-818d-865a1c21f37b",
   "metadata": {},
   "outputs": [
    {
     "data": {
      "text/html": [
       "<div>\n",
       "<style scoped>\n",
       "    .dataframe tbody tr th:only-of-type {\n",
       "        vertical-align: middle;\n",
       "    }\n",
       "\n",
       "    .dataframe tbody tr th {\n",
       "        vertical-align: top;\n",
       "    }\n",
       "\n",
       "    .dataframe thead th {\n",
       "        text-align: right;\n",
       "    }\n",
       "</style>\n",
       "<table border=\"1\" class=\"dataframe\">\n",
       "  <thead>\n",
       "    <tr style=\"text-align: right;\">\n",
       "      <th></th>\n",
       "      <th>name</th>\n",
       "      <th>gender</th>\n",
       "      <th>number</th>\n",
       "    </tr>\n",
       "  </thead>\n",
       "  <tbody>\n",
       "    <tr>\n",
       "      <th>17544</th>\n",
       "      <td>Liam</td>\n",
       "      <td>M</td>\n",
       "      <td>20272</td>\n",
       "    </tr>\n",
       "    <tr>\n",
       "      <th>17545</th>\n",
       "      <td>Noah</td>\n",
       "      <td>M</td>\n",
       "      <td>18739</td>\n",
       "    </tr>\n",
       "    <tr>\n",
       "      <th>17546</th>\n",
       "      <td>Oliver</td>\n",
       "      <td>M</td>\n",
       "      <td>14616</td>\n",
       "    </tr>\n",
       "    <tr>\n",
       "      <th>17547</th>\n",
       "      <td>Elijah</td>\n",
       "      <td>M</td>\n",
       "      <td>12708</td>\n",
       "    </tr>\n",
       "    <tr>\n",
       "      <th>17548</th>\n",
       "      <td>James</td>\n",
       "      <td>M</td>\n",
       "      <td>12367</td>\n",
       "    </tr>\n",
       "  </tbody>\n",
       "</table>\n",
       "</div>"
      ],
      "text/plain": [
       "         name gender  number\n",
       "17544    Liam      M   20272\n",
       "17545    Noah      M   18739\n",
       "17546  Oliver      M   14616\n",
       "17547  Elijah      M   12708\n",
       "17548   James      M   12367"
      ]
     },
     "execution_count": 21,
     "metadata": {},
     "output_type": "execute_result"
    }
   ],
   "source": [
    "df_male = df[df['gender'] == 'M'].nlargest(n=5, columns=['number'])\n",
    "df_male"
   ]
  },
  {
   "cell_type": "code",
   "execution_count": null,
   "id": "933faf0b-17ec-4415-a915-b1b2d3abce05",
   "metadata": {},
   "outputs": [],
   "source": [
    "# Task 10: Write the data from task 9 to an Excel spreadsheet."
   ]
  },
  {
   "cell_type": "code",
   "execution_count": 23,
   "id": "cddcbb55-6acf-4f50-a18f-f1839e6716ae",
   "metadata": {},
   "outputs": [
    {
     "name": "stdout",
     "output_type": "stream",
     "text": [
      "Collecting openpyxl\n",
      "  Using cached openpyxl-3.0.10-py2.py3-none-any.whl (242 kB)\n",
      "Collecting et-xmlfile\n",
      "  Using cached et_xmlfile-1.1.0-py3-none-any.whl (4.7 kB)\n",
      "Installing collected packages: et-xmlfile, openpyxl\n",
      "Successfully installed et-xmlfile-1.1.0 openpyxl-3.0.10\n",
      "Note: you may need to restart the kernel to use updated packages.\n"
     ]
    }
   ],
   "source": [
    "pip install openpyxl"
   ]
  },
  {
   "cell_type": "code",
   "execution_count": 25,
   "id": "5b59ed72-0d1e-4777-a48d-25eb46dc9993",
   "metadata": {},
   "outputs": [],
   "source": [
    "from openpyxl.workbook import Workbook\n",
    "writer = pd.ExcelWriter('sheet.xlsx')\n",
    "df_male.to_excel(writer)\n",
    "df_female.to_excel(writer)\n",
    "writer.save()"
   ]
  },
  {
   "cell_type": "code",
   "execution_count": null,
   "id": "b6d34648-6958-4d1e-80d0-cb384e1f8a40",
   "metadata": {},
   "outputs": [],
   "source": []
  }
 ],
 "metadata": {
  "kernelspec": {
   "display_name": "Python 3 (ipykernel)",
   "language": "python",
   "name": "python3"
  },
  "language_info": {
   "codemirror_mode": {
    "name": "ipython",
    "version": 3
   },
   "file_extension": ".py",
   "mimetype": "text/x-python",
   "name": "python",
   "nbconvert_exporter": "python",
   "pygments_lexer": "ipython3",
   "version": "3.8.5"
  }
 },
 "nbformat": 4,
 "nbformat_minor": 5
}
