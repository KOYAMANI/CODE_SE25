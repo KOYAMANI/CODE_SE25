{
 "cells": [
  {
   "cell_type": "code",
   "execution_count": 2,
   "id": "fd022eee-9a8b-4536-8e6e-3f1f0dabc7f8",
   "metadata": {},
   "outputs": [],
   "source": [
    "import pandas as pd"
   ]
  },
  {
   "cell_type": "code",
   "execution_count": 3,
   "id": "fe4b9f57-1376-4a9d-8adb-7eab0dc857a0",
   "metadata": {},
   "outputs": [],
   "source": [
    "df = pd.read_csv('names/yob2000.txt',names=['name', 'gender', 'number'])"
   ]
  },
  {
   "cell_type": "code",
   "execution_count": 4,
   "id": "fc30de96-e171-4aa9-b4f2-7a6064df05b8",
   "metadata": {},
   "outputs": [],
   "source": [
    "# Task1: Calculate for each name in yob2000.txt its percentage of total births. \n",
    "# Store this percentage as an additional column."
   ]
  },
  {
   "cell_type": "code",
   "execution_count": null,
   "id": "d3f88536-c13f-4b93-a314-5ab9464fdc67",
   "metadata": {},
   "outputs": [
    {
     "name": "stdout",
     "output_type": "stream",
     "text": [
      "          name gender  number  percentage\n",
      "0        Emily      F   25957    0.686806\n",
      "1       Hannah      F   23085    0.610814\n",
      "2      Madison      F   19968    0.528341\n",
      "3       Ashley      F   17997    0.476189\n",
      "4        Sarah      F   17708    0.468542\n",
      "...        ...    ...     ...         ...\n",
      "29771     Zeph      M       5    0.000132\n",
      "29772    Zeven      M       5    0.000132\n",
      "29773    Ziggy      M       5    0.000132\n",
      "29774       Zo      M       5    0.000132\n",
      "29775    Zyier      M       5    0.000132\n",
      "\n",
      "[29776 rows x 4 columns]\n"
     ]
    }
   ],
   "source": [
    "df['percentage'] = ((df['number']) / df['number'].sum()) * 100\n",
    "print(df)"
   ]
  },
  {
   "cell_type": "code",
   "execution_count": 6,
   "id": "c5844e76-eb11-4cda-9d01-61db443cfef4",
   "metadata": {},
   "outputs": [],
   "source": [
    "# Task2: Read all files yob1880.txt, yob1881.txt ... yob2021.txt. \n",
    "# Add an extra column for the year. Concatenate them into a single data structure."
   ]
  },
  {
   "cell_type": "code",
   "execution_count": 7,
   "id": "c58211a7-3539-4491-b321-7a78e9d9cf7d",
   "metadata": {},
   "outputs": [],
   "source": [
    "import pandas as pd\n",
    "import glob\n",
    "files = glob.glob(\"names/*.txt\")\n",
    "\n",
    "df_l = []\n",
    "for f in files:\n",
    "    csv = pd.read_csv(f,names=['name', 'gender', 'number'])\n",
    "    csv['year'] = f[9:][:4]\n",
    "    df_l.append(csv)\n",
    "\n",
    "df_all = pd.concat(df_l, ignore_index=True)"
   ]
  },
  {
   "cell_type": "code",
   "execution_count": 8,
   "id": "d4a8da37-6904-4900-997f-f3389a1ecb4d",
   "metadata": {},
   "outputs": [
    {
     "data": {
      "text/html": [
       "<div>\n",
       "<style scoped>\n",
       "    .dataframe tbody tr th:only-of-type {\n",
       "        vertical-align: middle;\n",
       "    }\n",
       "\n",
       "    .dataframe tbody tr th {\n",
       "        vertical-align: top;\n",
       "    }\n",
       "\n",
       "    .dataframe thead th {\n",
       "        text-align: right;\n",
       "    }\n",
       "</style>\n",
       "<table border=\"1\" class=\"dataframe\">\n",
       "  <thead>\n",
       "    <tr style=\"text-align: right;\">\n",
       "      <th></th>\n",
       "      <th>name</th>\n",
       "      <th>gender</th>\n",
       "      <th>number</th>\n",
       "      <th>year</th>\n",
       "    </tr>\n",
       "  </thead>\n",
       "  <tbody>\n",
       "    <tr>\n",
       "      <th>0</th>\n",
       "      <td>Emily</td>\n",
       "      <td>F</td>\n",
       "      <td>25957</td>\n",
       "      <td>2000</td>\n",
       "    </tr>\n",
       "    <tr>\n",
       "      <th>1</th>\n",
       "      <td>Hannah</td>\n",
       "      <td>F</td>\n",
       "      <td>23085</td>\n",
       "      <td>2000</td>\n",
       "    </tr>\n",
       "    <tr>\n",
       "      <th>2</th>\n",
       "      <td>Madison</td>\n",
       "      <td>F</td>\n",
       "      <td>19968</td>\n",
       "      <td>2000</td>\n",
       "    </tr>\n",
       "    <tr>\n",
       "      <th>3</th>\n",
       "      <td>Ashley</td>\n",
       "      <td>F</td>\n",
       "      <td>17997</td>\n",
       "      <td>2000</td>\n",
       "    </tr>\n",
       "    <tr>\n",
       "      <th>4</th>\n",
       "      <td>Sarah</td>\n",
       "      <td>F</td>\n",
       "      <td>17708</td>\n",
       "      <td>2000</td>\n",
       "    </tr>\n",
       "    <tr>\n",
       "      <th>...</th>\n",
       "      <td>...</td>\n",
       "      <td>...</td>\n",
       "      <td>...</td>\n",
       "      <td>...</td>\n",
       "    </tr>\n",
       "    <tr>\n",
       "      <th>2052776</th>\n",
       "      <td>Zyheem</td>\n",
       "      <td>M</td>\n",
       "      <td>5</td>\n",
       "      <td>2019</td>\n",
       "    </tr>\n",
       "    <tr>\n",
       "      <th>2052777</th>\n",
       "      <td>Zykel</td>\n",
       "      <td>M</td>\n",
       "      <td>5</td>\n",
       "      <td>2019</td>\n",
       "    </tr>\n",
       "    <tr>\n",
       "      <th>2052778</th>\n",
       "      <td>Zyking</td>\n",
       "      <td>M</td>\n",
       "      <td>5</td>\n",
       "      <td>2019</td>\n",
       "    </tr>\n",
       "    <tr>\n",
       "      <th>2052779</th>\n",
       "      <td>Zyn</td>\n",
       "      <td>M</td>\n",
       "      <td>5</td>\n",
       "      <td>2019</td>\n",
       "    </tr>\n",
       "    <tr>\n",
       "      <th>2052780</th>\n",
       "      <td>Zyran</td>\n",
       "      <td>M</td>\n",
       "      <td>5</td>\n",
       "      <td>2019</td>\n",
       "    </tr>\n",
       "  </tbody>\n",
       "</table>\n",
       "<p>2052781 rows × 4 columns</p>\n",
       "</div>"
      ],
      "text/plain": [
       "            name gender  number  year\n",
       "0          Emily      F   25957  2000\n",
       "1         Hannah      F   23085  2000\n",
       "2        Madison      F   19968  2000\n",
       "3         Ashley      F   17997  2000\n",
       "4          Sarah      F   17708  2000\n",
       "...          ...    ...     ...   ...\n",
       "2052776   Zyheem      M       5  2019\n",
       "2052777    Zykel      M       5  2019\n",
       "2052778   Zyking      M       5  2019\n",
       "2052779      Zyn      M       5  2019\n",
       "2052780    Zyran      M       5  2019\n",
       "\n",
       "[2052781 rows x 4 columns]"
      ]
     },
     "execution_count": 8,
     "metadata": {},
     "output_type": "execute_result"
    }
   ],
   "source": [
    "df_all"
   ]
  },
  {
   "cell_type": "code",
   "execution_count": 9,
   "id": "933be754-befa-4a95-8ac1-952493a22c1a",
   "metadata": {},
   "outputs": [],
   "source": [
    "# Task3: Calculate the total number of births for each year. \n",
    "# Visualize the timeline as a line plot."
   ]
  },
  {
   "cell_type": "code",
   "execution_count": 10,
   "id": "58fe5f81-e224-4cf4-bcd5-429d013aa493",
   "metadata": {},
   "outputs": [],
   "source": [
    "num_by_year = pd.DataFrame(df_all.groupby('year')['number'].count())"
   ]
  },
  {
   "cell_type": "code",
   "execution_count": 11,
   "id": "29b5d799-2172-409e-bc01-5bc490d8c5ec",
   "metadata": {},
   "outputs": [
    {
     "data": {
      "text/html": [
       "<div>\n",
       "<style scoped>\n",
       "    .dataframe tbody tr th:only-of-type {\n",
       "        vertical-align: middle;\n",
       "    }\n",
       "\n",
       "    .dataframe tbody tr th {\n",
       "        vertical-align: top;\n",
       "    }\n",
       "\n",
       "    .dataframe thead th {\n",
       "        text-align: right;\n",
       "    }\n",
       "</style>\n",
       "<table border=\"1\" class=\"dataframe\">\n",
       "  <thead>\n",
       "    <tr style=\"text-align: right;\">\n",
       "      <th></th>\n",
       "      <th>number</th>\n",
       "    </tr>\n",
       "    <tr>\n",
       "      <th>year</th>\n",
       "      <th></th>\n",
       "    </tr>\n",
       "  </thead>\n",
       "  <tbody>\n",
       "    <tr>\n",
       "      <th>1880</th>\n",
       "      <td>2000</td>\n",
       "    </tr>\n",
       "    <tr>\n",
       "      <th>1881</th>\n",
       "      <td>1934</td>\n",
       "    </tr>\n",
       "    <tr>\n",
       "      <th>1882</th>\n",
       "      <td>2127</td>\n",
       "    </tr>\n",
       "    <tr>\n",
       "      <th>1883</th>\n",
       "      <td>2084</td>\n",
       "    </tr>\n",
       "    <tr>\n",
       "      <th>1884</th>\n",
       "      <td>2297</td>\n",
       "    </tr>\n",
       "    <tr>\n",
       "      <th>...</th>\n",
       "      <td>...</td>\n",
       "    </tr>\n",
       "    <tr>\n",
       "      <th>2017</th>\n",
       "      <td>32648</td>\n",
       "    </tr>\n",
       "    <tr>\n",
       "      <th>2018</th>\n",
       "      <td>32196</td>\n",
       "    </tr>\n",
       "    <tr>\n",
       "      <th>2019</th>\n",
       "      <td>32073</td>\n",
       "    </tr>\n",
       "    <tr>\n",
       "      <th>2020</th>\n",
       "      <td>31453</td>\n",
       "    </tr>\n",
       "    <tr>\n",
       "      <th>2021</th>\n",
       "      <td>31537</td>\n",
       "    </tr>\n",
       "  </tbody>\n",
       "</table>\n",
       "<p>142 rows × 1 columns</p>\n",
       "</div>"
      ],
      "text/plain": [
       "      number\n",
       "year        \n",
       "1880    2000\n",
       "1881    1934\n",
       "1882    2127\n",
       "1883    2084\n",
       "1884    2297\n",
       "...      ...\n",
       "2017   32648\n",
       "2018   32196\n",
       "2019   32073\n",
       "2020   31453\n",
       "2021   31537\n",
       "\n",
       "[142 rows x 1 columns]"
      ]
     },
     "execution_count": 11,
     "metadata": {},
     "output_type": "execute_result"
    }
   ],
   "source": [
    "num_by_year"
   ]
  },
  {
   "cell_type": "code",
   "execution_count": 12,
   "id": "034e36af-efa6-4ca5-9413-69bc31b02a2c",
   "metadata": {},
   "outputs": [
    {
     "data": {
      "text/plain": [
       "<AxesSubplot:xlabel='year'>"
      ]
     },
     "execution_count": 12,
     "metadata": {},
     "output_type": "execute_result"
    },
    {
     "data": {
      "image/png": "[encoded data removed]",
      "text/plain": [
       "<Figure size 640x480 with 1 Axes>"
      ]
     },
     "metadata": {},
     "output_type": "display_data"
    }
   ],
   "source": [
    "num_by_year.plot()"
   ]
  },
  {
   "cell_type": "code",
   "execution_count": 39,
   "id": "928528cd-252a-4de3-85d9-b6ecd81a016c",
   "metadata": {},
   "outputs": [],
   "source": [
    "# Task4: Now, create a timeline for your own name. First check if your name occurs at all. \n",
    "# If yes, create a table with the columns year and number."
   ]
  },
  {
   "cell_type": "code",
   "execution_count": 40,
   "id": "923efd5f-daf0-491e-85b1-532e71670fc6",
   "metadata": {},
   "outputs": [],
   "source": [
    "df_by_name = df_all[df_all['name'] == 'Sarah'].sort_values('year')"
   ]
  },
  {
   "cell_type": "code",
   "execution_count": 46,
   "id": "56e03398-97ad-4843-836d-c3f1180292e4",
   "metadata": {},
   "outputs": [],
   "source": [
    "sarahName = df_by_name[df_by_name['gender'] == 'F']"
   ]
  },
  {
   "cell_type": "code",
   "execution_count": 49,
   "id": "94eb141f-8881-46fb-8df1-491dea45f09d",
   "metadata": {},
   "outputs": [
    {
     "data": {
      "text/plain": [
       "<AxesSubplot:xlabel='year'>"
      ]
     },
     "execution_count": 49,
     "metadata": {},
     "output_type": "execute_result"
    },
    {
     "data": {
      "image/png": "[encoded data removed]",
      "text/plain": [
       "<Figure size 640x480 with 1 Axes>"
      ]
     },
     "metadata": {},
     "output_type": "display_data"
    }
   ],
   "source": [
    "sarahName.plot.line(x='year', y='number')"
   ]
  },
  {
   "cell_type": "code",
   "execution_count": 50,
   "id": "22034605-6e2e-4a7c-b1aa-7d46189f8898",
   "metadata": {},
   "outputs": [
    {
     "data": {
      "text/html": [
       "<div>\n",
       "<style scoped>\n",
       "    .dataframe tbody tr th:only-of-type {\n",
       "        vertical-align: middle;\n",
       "    }\n",
       "\n",
       "    .dataframe tbody tr th {\n",
       "        vertical-align: top;\n",
       "    }\n",
       "\n",
       "    .dataframe thead th {\n",
       "        text-align: right;\n",
       "    }\n",
       "</style>\n",
       "<table border=\"1\" class=\"dataframe\">\n",
       "  <thead>\n",
       "    <tr style=\"text-align: right;\">\n",
       "      <th></th>\n",
       "      <th>name</th>\n",
       "      <th>gender</th>\n",
       "      <th>number</th>\n",
       "      <th>year</th>\n",
       "      <th>year+</th>\n",
       "    </tr>\n",
       "  </thead>\n",
       "  <tbody>\n",
       "    <tr>\n",
       "      <th>1905487</th>\n",
       "      <td>Sarah</td>\n",
       "      <td>F</td>\n",
       "      <td>1226</td>\n",
       "      <td>1881</td>\n",
       "      <td>1881</td>\n",
       "    </tr>\n",
       "    <tr>\n",
       "      <th>1903485</th>\n",
       "      <td>Sarah</td>\n",
       "      <td>F</td>\n",
       "      <td>1288</td>\n",
       "      <td>1880</td>\n",
       "      <td>1880</td>\n",
       "    </tr>\n",
       "    <tr>\n",
       "      <th>1986269</th>\n",
       "      <td>Sarah</td>\n",
       "      <td>F</td>\n",
       "      <td>1359</td>\n",
       "      <td>1883</td>\n",
       "      <td>1883</td>\n",
       "    </tr>\n",
       "    <tr>\n",
       "      <th>1994472</th>\n",
       "      <td>Sarah</td>\n",
       "      <td>F</td>\n",
       "      <td>1410</td>\n",
       "      <td>1882</td>\n",
       "      <td>1882</td>\n",
       "    </tr>\n",
       "    <tr>\n",
       "      <th>1854260</th>\n",
       "      <td>Sarah</td>\n",
       "      <td>F</td>\n",
       "      <td>1424</td>\n",
       "      <td>1885</td>\n",
       "      <td>1885</td>\n",
       "    </tr>\n",
       "    <tr>\n",
       "      <th>...</th>\n",
       "      <td>...</td>\n",
       "      <td>...</td>\n",
       "      <td>...</td>\n",
       "      <td>...</td>\n",
       "      <td>...</td>\n",
       "    </tr>\n",
       "    <tr>\n",
       "      <th>1275848</th>\n",
       "      <td>Sarah</td>\n",
       "      <td>F</td>\n",
       "      <td>27894</td>\n",
       "      <td>1987</td>\n",
       "      <td>1987</td>\n",
       "    </tr>\n",
       "    <tr>\n",
       "      <th>1203793</th>\n",
       "      <td>Sarah</td>\n",
       "      <td>F</td>\n",
       "      <td>28162</td>\n",
       "      <td>1986</td>\n",
       "      <td>1986</td>\n",
       "    </tr>\n",
       "    <tr>\n",
       "      <th>1560733</th>\n",
       "      <td>Sarah</td>\n",
       "      <td>F</td>\n",
       "      <td>28172</td>\n",
       "      <td>1981</td>\n",
       "      <td>1981</td>\n",
       "    </tr>\n",
       "    <tr>\n",
       "      <th>981425</th>\n",
       "      <td>Sarah</td>\n",
       "      <td>F</td>\n",
       "      <td>28370</td>\n",
       "      <td>1988</td>\n",
       "      <td>1988</td>\n",
       "    </tr>\n",
       "    <tr>\n",
       "      <th>1440639</th>\n",
       "      <td>Sarah</td>\n",
       "      <td>F</td>\n",
       "      <td>28488</td>\n",
       "      <td>1982</td>\n",
       "      <td>1982</td>\n",
       "    </tr>\n",
       "  </tbody>\n",
       "</table>\n",
       "<p>142 rows × 5 columns</p>\n",
       "</div>"
      ],
      "text/plain": [
       "          name gender  number  year year+\n",
       "1905487  Sarah      F    1226  1881  1881\n",
       "1903485  Sarah      F    1288  1880  1880\n",
       "1986269  Sarah      F    1359  1883  1883\n",
       "1994472  Sarah      F    1410  1882  1882\n",
       "1854260  Sarah      F    1424  1885  1885\n",
       "...        ...    ...     ...   ...   ...\n",
       "1275848  Sarah      F   27894  1987  1987\n",
       "1203793  Sarah      F   28162  1986  1986\n",
       "1560733  Sarah      F   28172  1981  1981\n",
       "981425   Sarah      F   28370  1988  1988\n",
       "1440639  Sarah      F   28488  1982  1982\n",
       "\n",
       "[142 rows x 5 columns]"
      ]
     },
     "execution_count": 50,
     "metadata": {},
     "output_type": "execute_result"
    }
   ],
   "source": [
    "sarahName.sort_values(by='number')"
   ]
  },
  {
   "cell_type": "code",
   "execution_count": 17,
   "id": "07b4d521-0e04-4d60-921e-bcd6d4ebbeec",
   "metadata": {},
   "outputs": [],
   "source": [
    "# Task5: nvestigate the popularity of the names of some US celebrities over the last 130 years. \n",
    "# Plot a time line with 2-4 names."
   ]
  },
  {
   "cell_type": "code",
   "execution_count": 18,
   "id": "cf5ec61d-d420-49a2-809c-30f4c7b16072",
   "metadata": {},
   "outputs": [],
   "source": [
    "df_populality = df_all[(df_all['name'] == 'Arielle') \n",
    "                       | (df_all['name'] == 'Frida') \n",
    "                       | (df_all['name'] == 'Leia')]"
   ]
  },
  {
   "cell_type": "code",
   "execution_count": 19,
   "id": "5f001a72-d14c-4a44-a0ba-01ed5c4c98ba",
   "metadata": {},
   "outputs": [
    {
     "data": {
      "text/html": [
       "<div>\n",
       "<style scoped>\n",
       "    .dataframe tbody tr th:only-of-type {\n",
       "        vertical-align: middle;\n",
       "    }\n",
       "\n",
       "    .dataframe tbody tr th {\n",
       "        vertical-align: top;\n",
       "    }\n",
       "\n",
       "    .dataframe thead th {\n",
       "        text-align: right;\n",
       "    }\n",
       "</style>\n",
       "<table border=\"1\" class=\"dataframe\">\n",
       "  <thead>\n",
       "    <tr style=\"text-align: right;\">\n",
       "      <th></th>\n",
       "      <th>name</th>\n",
       "      <th>gender</th>\n",
       "      <th>number</th>\n",
       "    </tr>\n",
       "    <tr>\n",
       "      <th>year</th>\n",
       "      <th></th>\n",
       "      <th></th>\n",
       "      <th></th>\n",
       "    </tr>\n",
       "  </thead>\n",
       "  <tbody>\n",
       "    <tr>\n",
       "      <th>1892</th>\n",
       "      <td>Frida</td>\n",
       "      <td>F</td>\n",
       "      <td>5</td>\n",
       "    </tr>\n",
       "    <tr>\n",
       "      <th>1895</th>\n",
       "      <td>Frida</td>\n",
       "      <td>F</td>\n",
       "      <td>5</td>\n",
       "    </tr>\n",
       "    <tr>\n",
       "      <th>1902</th>\n",
       "      <td>Frida</td>\n",
       "      <td>F</td>\n",
       "      <td>5</td>\n",
       "    </tr>\n",
       "    <tr>\n",
       "      <th>1912</th>\n",
       "      <td>Frida</td>\n",
       "      <td>F</td>\n",
       "      <td>5</td>\n",
       "    </tr>\n",
       "    <tr>\n",
       "      <th>1913</th>\n",
       "      <td>Frida</td>\n",
       "      <td>F</td>\n",
       "      <td>6</td>\n",
       "    </tr>\n",
       "    <tr>\n",
       "      <th>...</th>\n",
       "      <td>...</td>\n",
       "      <td>...</td>\n",
       "      <td>...</td>\n",
       "    </tr>\n",
       "    <tr>\n",
       "      <th>2020</th>\n",
       "      <td>Leia</td>\n",
       "      <td>F</td>\n",
       "      <td>1084</td>\n",
       "    </tr>\n",
       "    <tr>\n",
       "      <th>2020</th>\n",
       "      <td>Arielle</td>\n",
       "      <td>M</td>\n",
       "      <td>6</td>\n",
       "    </tr>\n",
       "    <tr>\n",
       "      <th>2021</th>\n",
       "      <td>Frida</td>\n",
       "      <td>F</td>\n",
       "      <td>264</td>\n",
       "    </tr>\n",
       "    <tr>\n",
       "      <th>2021</th>\n",
       "      <td>Arielle</td>\n",
       "      <td>F</td>\n",
       "      <td>852</td>\n",
       "    </tr>\n",
       "    <tr>\n",
       "      <th>2021</th>\n",
       "      <td>Leia</td>\n",
       "      <td>F</td>\n",
       "      <td>1067</td>\n",
       "    </tr>\n",
       "  </tbody>\n",
       "</table>\n",
       "<p>202 rows × 3 columns</p>\n",
       "</div>"
      ],
      "text/plain": [
       "         name gender  number\n",
       "year                        \n",
       "1892    Frida      F       5\n",
       "1895    Frida      F       5\n",
       "1902    Frida      F       5\n",
       "1912    Frida      F       5\n",
       "1913    Frida      F       6\n",
       "...       ...    ...     ...\n",
       "2020     Leia      F    1084\n",
       "2020  Arielle      M       6\n",
       "2021    Frida      F     264\n",
       "2021  Arielle      F     852\n",
       "2021     Leia      F    1067\n",
       "\n",
       "[202 rows x 3 columns]"
      ]
     },
     "execution_count": 19,
     "metadata": {},
     "output_type": "execute_result"
    }
   ],
   "source": [
    "df_p = df_populality.set_index('year').sort_values('year')\n",
    "df_p"
   ]
  },
  {
   "cell_type": "code",
   "execution_count": 27,
   "id": "9b5d98e4-581c-4336-b34b-dafbc0d16c9b",
   "metadata": {},
   "outputs": [
    {
     "data": {
      "text/plain": [
       "name\n",
       "Arielle    AxesSubplot(0.125,0.11;0.775x0.77)\n",
       "Frida      AxesSubplot(0.125,0.11;0.775x0.77)\n",
       "Leia       AxesSubplot(0.125,0.11;0.775x0.77)\n",
       "Name: number, dtype: object"
      ]
     },
     "execution_count": 27,
     "metadata": {},
     "output_type": "execute_result"
    },
    {
     "data": {
      "image/png": "[encoded data removed]",
      "text/plain": [
       "<Figure size 640x480 with 1 Axes>"
      ]
     },
     "metadata": {},
     "output_type": "display_data"
    }
   ],
   "source": [
    "df_p.groupby('name')['number'].plot(\n",
    "    xlabel='year', ylabel='number', legend=['Arielle', 'Frida', 'Leia'])"
   ]
  },
  {
   "cell_type": "code",
   "execution_count": 28,
   "id": "9827e281-da07-4a2e-8024-ce85f3b53c1a",
   "metadata": {},
   "outputs": [],
   "source": [
    "# Task6: Finally, we will normalize the data. Repeat Task 4 or 5,\n",
    "# but divide the count of a given name by the total number of births of that year"
   ]
  },
  {
   "cell_type": "code",
   "execution_count": 51,
   "id": "6e1385b6-76db-4e2a-a851-b5e879aa5771",
   "metadata": {},
   "outputs": [
    {
     "name": "stderr",
     "output_type": "stream",
     "text": [
      "/var/folders/6f/d0lh9xg17c5fm7rgjrxrc6t80000gn/T/ipykernel_11636/4059970877.py:1: SettingWithCopyWarning: \n",
      "A value is trying to be set on a copy of a slice from a DataFrame.\n",
      "Try using .loc[row_indexer,col_indexer] = value instead\n",
      "\n",
      "See the caveats in the documentation: https://pandas.pydata.org/pandas-docs/stable/user_guide/indexing.html#returning-a-view-versus-a-copy\n",
      "  sarahName['year+'] = sarahName['year']\n"
     ]
    }
   ],
   "source": [
    "sarahName['year+'] = sarahName['year']"
   ]
  },
  {
   "cell_type": "code",
   "execution_count": 52,
   "id": "4e48dd6d-416f-4e2d-a7e8-6bba6f65b0b9",
   "metadata": {},
   "outputs": [],
   "source": [
    "dbn = sarahName.set_index('year').sort_values('year')"
   ]
  },
  {
   "cell_type": "code",
   "execution_count": 53,
   "id": "dec7d8ce-adb3-4597-8abd-85202ce592f1",
   "metadata": {},
   "outputs": [],
   "source": [
    "dbn['percentage'] = dbn['number'] / num_by_year['number']"
   ]
  },
  {
   "cell_type": "code",
   "execution_count": 54,
   "id": "91b0ffdb-9802-4cd0-af65-d6d856ac31af",
   "metadata": {},
   "outputs": [
    {
     "data": {
      "text/html": [
       "<div>\n",
       "<style scoped>\n",
       "    .dataframe tbody tr th:only-of-type {\n",
       "        vertical-align: middle;\n",
       "    }\n",
       "\n",
       "    .dataframe tbody tr th {\n",
       "        vertical-align: top;\n",
       "    }\n",
       "\n",
       "    .dataframe thead th {\n",
       "        text-align: right;\n",
       "    }\n",
       "</style>\n",
       "<table border=\"1\" class=\"dataframe\">\n",
       "  <thead>\n",
       "    <tr style=\"text-align: right;\">\n",
       "      <th></th>\n",
       "      <th>name</th>\n",
       "      <th>gender</th>\n",
       "      <th>number</th>\n",
       "      <th>year+</th>\n",
       "      <th>percentage</th>\n",
       "    </tr>\n",
       "    <tr>\n",
       "      <th>year</th>\n",
       "      <th></th>\n",
       "      <th></th>\n",
       "      <th></th>\n",
       "      <th></th>\n",
       "      <th></th>\n",
       "    </tr>\n",
       "  </thead>\n",
       "  <tbody>\n",
       "    <tr>\n",
       "      <th>1880</th>\n",
       "      <td>Sarah</td>\n",
       "      <td>F</td>\n",
       "      <td>1288</td>\n",
       "      <td>1880</td>\n",
       "      <td>0.644000</td>\n",
       "    </tr>\n",
       "    <tr>\n",
       "      <th>1881</th>\n",
       "      <td>Sarah</td>\n",
       "      <td>F</td>\n",
       "      <td>1226</td>\n",
       "      <td>1881</td>\n",
       "      <td>0.633919</td>\n",
       "    </tr>\n",
       "    <tr>\n",
       "      <th>1882</th>\n",
       "      <td>Sarah</td>\n",
       "      <td>F</td>\n",
       "      <td>1410</td>\n",
       "      <td>1882</td>\n",
       "      <td>0.662906</td>\n",
       "    </tr>\n",
       "    <tr>\n",
       "      <th>1883</th>\n",
       "      <td>Sarah</td>\n",
       "      <td>F</td>\n",
       "      <td>1359</td>\n",
       "      <td>1883</td>\n",
       "      <td>0.652111</td>\n",
       "    </tr>\n",
       "    <tr>\n",
       "      <th>1884</th>\n",
       "      <td>Sarah</td>\n",
       "      <td>F</td>\n",
       "      <td>1518</td>\n",
       "      <td>1884</td>\n",
       "      <td>0.660862</td>\n",
       "    </tr>\n",
       "    <tr>\n",
       "      <th>...</th>\n",
       "      <td>...</td>\n",
       "      <td>...</td>\n",
       "      <td>...</td>\n",
       "      <td>...</td>\n",
       "      <td>...</td>\n",
       "    </tr>\n",
       "    <tr>\n",
       "      <th>2017</th>\n",
       "      <td>Sarah</td>\n",
       "      <td>F</td>\n",
       "      <td>4031</td>\n",
       "      <td>2017</td>\n",
       "      <td>0.123469</td>\n",
       "    </tr>\n",
       "    <tr>\n",
       "      <th>2018</th>\n",
       "      <td>Sarah</td>\n",
       "      <td>F</td>\n",
       "      <td>3767</td>\n",
       "      <td>2018</td>\n",
       "      <td>0.117002</td>\n",
       "    </tr>\n",
       "    <tr>\n",
       "      <th>2019</th>\n",
       "      <td>Sarah</td>\n",
       "      <td>F</td>\n",
       "      <td>3311</td>\n",
       "      <td>2019</td>\n",
       "      <td>0.103233</td>\n",
       "    </tr>\n",
       "    <tr>\n",
       "      <th>2020</th>\n",
       "      <td>Sarah</td>\n",
       "      <td>F</td>\n",
       "      <td>3054</td>\n",
       "      <td>2020</td>\n",
       "      <td>0.097097</td>\n",
       "    </tr>\n",
       "    <tr>\n",
       "      <th>2021</th>\n",
       "      <td>Sarah</td>\n",
       "      <td>F</td>\n",
       "      <td>2825</td>\n",
       "      <td>2021</td>\n",
       "      <td>0.089577</td>\n",
       "    </tr>\n",
       "  </tbody>\n",
       "</table>\n",
       "<p>142 rows × 5 columns</p>\n",
       "</div>"
      ],
      "text/plain": [
       "       name gender  number year+  percentage\n",
       "year                                        \n",
       "1880  Sarah      F    1288  1880    0.644000\n",
       "1881  Sarah      F    1226  1881    0.633919\n",
       "1882  Sarah      F    1410  1882    0.662906\n",
       "1883  Sarah      F    1359  1883    0.652111\n",
       "1884  Sarah      F    1518  1884    0.660862\n",
       "...     ...    ...     ...   ...         ...\n",
       "2017  Sarah      F    4031  2017    0.123469\n",
       "2018  Sarah      F    3767  2018    0.117002\n",
       "2019  Sarah      F    3311  2019    0.103233\n",
       "2020  Sarah      F    3054  2020    0.097097\n",
       "2021  Sarah      F    2825  2021    0.089577\n",
       "\n",
       "[142 rows x 5 columns]"
      ]
     },
     "execution_count": 54,
     "metadata": {},
     "output_type": "execute_result"
    }
   ],
   "source": [
    "dbn"
   ]
  },
  {
   "cell_type": "code",
   "execution_count": 55,
   "id": "23d1f47a-2b45-4cc2-a1ee-1bca5d6c366a",
   "metadata": {},
   "outputs": [
    {
     "data": {
      "text/plain": [
       "<AxesSubplot:xlabel='year+'>"
      ]
     },
     "execution_count": 55,
     "metadata": {},
     "output_type": "execute_result"
    },
    {
     "data": {
      "image/png": "[encoded data removed]",
      "text/plain": [
       "<Figure size 640x480 with 1 Axes>"
      ]
     },
     "metadata": {},
     "output_type": "display_data"
    }
   ],
   "source": [
    "dbn.plot.line(x='year+', y='percentage')"
   ]
  },
  {
   "cell_type": "code",
   "execution_count": 202,
   "id": "32993b07-742b-4904-8d0c-dfaf7c6fa0ee",
   "metadata": {},
   "outputs": [],
   "source": [
    "# How does the result change and why is this important?\n",
    "\n",
    "# In the previous graph, the number of the baby named \"Sarah\" indecates the laast number in 1880\n",
    "# ,then gradually growing up its number and hit the peak in around 1984, finally had huge drop after the reaching the peak\n",
    "# However, if we look at the percentage, it had nearly over 0.6% in 1880 and then the number was going down until 1959,\n",
    "\n",
    "# The reason we need to look at both the absolute numbers and percentage is that if we looked at just either of them, it could cause misunderstandings"
   ]
  }
 ],
 "metadata": {
  "kernelspec": {
   "display_name": "Python 3 (ipykernel)",
   "language": "python",
   "name": "python3"
  },
  "language_info": {
   "codemirror_mode": {
    "name": "ipython",
    "version": 3
   },
   "file_extension": ".py",
   "mimetype": "text/x-python",
   "name": "python",
   "nbconvert_exporter": "python",
   "pygments_lexer": "ipython3",
   "version": "3.8.5"
  }
 },
 "nbformat": 4,
 "nbformat_minor": 5
}
