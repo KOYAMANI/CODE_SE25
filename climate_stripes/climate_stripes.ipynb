{
 "cells": [
  {
   "cell_type": "markdown",
   "id": "9417bfc3-c36e-47cb-8158-ca3c4bd4006b",
   "metadata": {},
   "source": [
    "### Step 1: Get climate data from ECAD"
   ]
  },
  {
   "cell_type": "code",
   "execution_count": 68,
   "id": "9cf50cd0-b05f-419e-a6f2-5e74c8e4f159",
   "metadata": {},
   "outputs": [],
   "source": [
    "import pandas as pd\n",
    "import os\n",
    "import seaborn as sns\n",
    "import matplotlib.pyplot as plt"
   ]
  },
  {
   "cell_type": "markdown",
   "id": "b62b9a3e-03d2-4eae-87af-b5051c56517d",
   "metadata": {},
   "source": [
    "### Step 2: Read the data into a DataFrame\n",
    "Reading the ECAD data into pandas is a bit trickier than a standard CSV file. You will need to inspect the file in a text editor (not Excel). Pay attention to the following:\n",
    "\n",
    "what is the column separator?\n",
    "are there any headers?\n",
    "how many lines contain comments before the real data starts?\n",
    "Look up the parameters of pd.read_csv(). They are sufficient to read the file."
   ]
  },
  {
   "cell_type": "code",
   "execution_count": 47,
   "id": "aa901286-7d25-4477-a860-9dd3b024f337",
   "metadata": {},
   "outputs": [
    {
     "data": {
      "text/html": [
       "<div>\n",
       "<style scoped>\n",
       "    .dataframe tbody tr th:only-of-type {\n",
       "        vertical-align: middle;\n",
       "    }\n",
       "\n",
       "    .dataframe tbody tr th {\n",
       "        vertical-align: top;\n",
       "    }\n",
       "\n",
       "    .dataframe thead th {\n",
       "        text-align: right;\n",
       "    }\n",
       "</style>\n",
       "<table border=\"1\" class=\"dataframe\">\n",
       "  <thead>\n",
       "    <tr style=\"text-align: right;\">\n",
       "      <th></th>\n",
       "      <th>SOUID</th>\n",
       "      <th>DATE</th>\n",
       "      <th>TG</th>\n",
       "      <th>Q_TG</th>\n",
       "    </tr>\n",
       "  </thead>\n",
       "  <tbody>\n",
       "    <tr>\n",
       "      <th>0</th>\n",
       "      <td>127488</td>\n",
       "      <td>18760101</td>\n",
       "      <td>22</td>\n",
       "      <td>0</td>\n",
       "    </tr>\n",
       "    <tr>\n",
       "      <th>1</th>\n",
       "      <td>127488</td>\n",
       "      <td>18760102</td>\n",
       "      <td>25</td>\n",
       "      <td>0</td>\n",
       "    </tr>\n",
       "    <tr>\n",
       "      <th>2</th>\n",
       "      <td>127488</td>\n",
       "      <td>18760103</td>\n",
       "      <td>3</td>\n",
       "      <td>0</td>\n",
       "    </tr>\n",
       "    <tr>\n",
       "      <th>3</th>\n",
       "      <td>127488</td>\n",
       "      <td>18760104</td>\n",
       "      <td>-58</td>\n",
       "      <td>0</td>\n",
       "    </tr>\n",
       "    <tr>\n",
       "      <th>4</th>\n",
       "      <td>127488</td>\n",
       "      <td>18760105</td>\n",
       "      <td>-98</td>\n",
       "      <td>0</td>\n",
       "    </tr>\n",
       "    <tr>\n",
       "      <th>...</th>\n",
       "      <td>...</td>\n",
       "      <td>...</td>\n",
       "      <td>...</td>\n",
       "      <td>...</td>\n",
       "    </tr>\n",
       "    <tr>\n",
       "      <th>53564</th>\n",
       "      <td>111448</td>\n",
       "      <td>20220827</td>\n",
       "      <td>205</td>\n",
       "      <td>0</td>\n",
       "    </tr>\n",
       "    <tr>\n",
       "      <th>53565</th>\n",
       "      <td>111448</td>\n",
       "      <td>20220828</td>\n",
       "      <td>177</td>\n",
       "      <td>0</td>\n",
       "    </tr>\n",
       "    <tr>\n",
       "      <th>53566</th>\n",
       "      <td>127932</td>\n",
       "      <td>20220829</td>\n",
       "      <td>165</td>\n",
       "      <td>0</td>\n",
       "    </tr>\n",
       "    <tr>\n",
       "      <th>53567</th>\n",
       "      <td>127932</td>\n",
       "      <td>20220830</td>\n",
       "      <td>173</td>\n",
       "      <td>0</td>\n",
       "    </tr>\n",
       "    <tr>\n",
       "      <th>53568</th>\n",
       "      <td>128124</td>\n",
       "      <td>20220831</td>\n",
       "      <td>-9999</td>\n",
       "      <td>9</td>\n",
       "    </tr>\n",
       "  </tbody>\n",
       "</table>\n",
       "<p>53569 rows × 4 columns</p>\n",
       "</div>"
      ],
      "text/plain": [
       "        SOUID      DATE    TG  Q_TG\n",
       "0      127488  18760101    22     0\n",
       "1      127488  18760102    25     0\n",
       "2      127488  18760103     3     0\n",
       "3      127488  18760104   -58     0\n",
       "4      127488  18760105   -98     0\n",
       "...       ...       ...   ...   ...\n",
       "53564  111448  20220827   205     0\n",
       "53565  111448  20220828   177     0\n",
       "53566  127932  20220829   165     0\n",
       "53567  127932  20220830   173     0\n",
       "53568  128124  20220831 -9999     9\n",
       "\n",
       "[53569 rows x 4 columns]"
      ]
     },
     "execution_count": 47,
     "metadata": {},
     "output_type": "execute_result"
    }
   ],
   "source": [
    "df = pd.read_csv('ECA_blended_custom/TG_STAID004586.txt')\n",
    "df"
   ]
  },
  {
   "cell_type": "markdown",
   "id": "002163c8-9761-46a9-875f-a674519fca56",
   "metadata": {},
   "source": [
    "### Step 3: Data Wrangling\n",
    "The TG column contains the temperature measured in 0.1 Celsius degrees. This was probably established decades ago when disk space and memory were more expensive (integers take less space).\n",
    "\n",
    "Create a new column by dividing the temperature by 10.\n",
    "Plot the raw temperature data as a line plot."
   ]
  },
  {
   "cell_type": "code",
   "execution_count": 48,
   "id": "d4399fbd-ca17-48c0-8e53-0bdebbf2b880",
   "metadata": {},
   "outputs": [
    {
     "name": "stdout",
     "output_type": "stream",
     "text": [
      "['SOUID', 'DATE', 'TG', 'Q_TG']\n"
     ]
    }
   ],
   "source": [
    "print(df.columns.tolist())"
   ]
  },
  {
   "cell_type": "code",
   "execution_count": 49,
   "id": "b49e7745-cd71-4d94-8dbb-59c16ea606e7",
   "metadata": {},
   "outputs": [
    {
     "data": {
      "text/plain": [
       "<AxesSubplot:xlabel='DATE'>"
      ]
     },
     "execution_count": 49,
     "metadata": {},
     "output_type": "execute_result"
    },
    {
     "data": {
      "image/png": "[encoded data removed]",
      "text/plain": [
       "<Figure size 640x480 with 1 Axes>"
      ]
     },
     "metadata": {},
     "output_type": "display_data"
    }
   ],
   "source": [
    "df['TEMP'] = df['TG'] / 10\n",
    "df.plot.line(y='TEMP',x='DATE')"
   ]
  },
  {
   "cell_type": "markdown",
   "id": "6119521f-f134-46ba-b94b-89f0647c6a41",
   "metadata": {},
   "source": [
    "### Step 4: Time Axis\n",
    "The DATE column contains timestamps in the YYYYMMDD format. You need to convert these to pandas timestamps."
   ]
  },
  {
   "cell_type": "markdown",
   "id": "f79843e1-d16a-4425-afef-360f86ec3d46",
   "metadata": {},
   "source": [
    "First, convert the DATE column to a string data type."
   ]
  },
  {
   "cell_type": "code",
   "execution_count": 50,
   "id": "31371be0-c4bd-42bf-95cd-7a4f0674171e",
   "metadata": {},
   "outputs": [
    {
     "data": {
      "text/html": [
       "<div>\n",
       "<style scoped>\n",
       "    .dataframe tbody tr th:only-of-type {\n",
       "        vertical-align: middle;\n",
       "    }\n",
       "\n",
       "    .dataframe tbody tr th {\n",
       "        vertical-align: top;\n",
       "    }\n",
       "\n",
       "    .dataframe thead th {\n",
       "        text-align: right;\n",
       "    }\n",
       "</style>\n",
       "<table border=\"1\" class=\"dataframe\">\n",
       "  <thead>\n",
       "    <tr style=\"text-align: right;\">\n",
       "      <th></th>\n",
       "      <th>SOUID</th>\n",
       "      <th>DATE</th>\n",
       "      <th>TG</th>\n",
       "      <th>Q_TG</th>\n",
       "      <th>TEMP</th>\n",
       "    </tr>\n",
       "  </thead>\n",
       "  <tbody>\n",
       "    <tr>\n",
       "      <th>0</th>\n",
       "      <td>127488</td>\n",
       "      <td>18760101</td>\n",
       "      <td>22</td>\n",
       "      <td>0</td>\n",
       "      <td>2.2</td>\n",
       "    </tr>\n",
       "    <tr>\n",
       "      <th>1</th>\n",
       "      <td>127488</td>\n",
       "      <td>18760102</td>\n",
       "      <td>25</td>\n",
       "      <td>0</td>\n",
       "      <td>2.5</td>\n",
       "    </tr>\n",
       "    <tr>\n",
       "      <th>2</th>\n",
       "      <td>127488</td>\n",
       "      <td>18760103</td>\n",
       "      <td>3</td>\n",
       "      <td>0</td>\n",
       "      <td>0.3</td>\n",
       "    </tr>\n",
       "    <tr>\n",
       "      <th>3</th>\n",
       "      <td>127488</td>\n",
       "      <td>18760104</td>\n",
       "      <td>-58</td>\n",
       "      <td>0</td>\n",
       "      <td>-5.8</td>\n",
       "    </tr>\n",
       "    <tr>\n",
       "      <th>4</th>\n",
       "      <td>127488</td>\n",
       "      <td>18760105</td>\n",
       "      <td>-98</td>\n",
       "      <td>0</td>\n",
       "      <td>-9.8</td>\n",
       "    </tr>\n",
       "    <tr>\n",
       "      <th>...</th>\n",
       "      <td>...</td>\n",
       "      <td>...</td>\n",
       "      <td>...</td>\n",
       "      <td>...</td>\n",
       "      <td>...</td>\n",
       "    </tr>\n",
       "    <tr>\n",
       "      <th>53564</th>\n",
       "      <td>111448</td>\n",
       "      <td>20220827</td>\n",
       "      <td>205</td>\n",
       "      <td>0</td>\n",
       "      <td>20.5</td>\n",
       "    </tr>\n",
       "    <tr>\n",
       "      <th>53565</th>\n",
       "      <td>111448</td>\n",
       "      <td>20220828</td>\n",
       "      <td>177</td>\n",
       "      <td>0</td>\n",
       "      <td>17.7</td>\n",
       "    </tr>\n",
       "    <tr>\n",
       "      <th>53566</th>\n",
       "      <td>127932</td>\n",
       "      <td>20220829</td>\n",
       "      <td>165</td>\n",
       "      <td>0</td>\n",
       "      <td>16.5</td>\n",
       "    </tr>\n",
       "    <tr>\n",
       "      <th>53567</th>\n",
       "      <td>127932</td>\n",
       "      <td>20220830</td>\n",
       "      <td>173</td>\n",
       "      <td>0</td>\n",
       "      <td>17.3</td>\n",
       "    </tr>\n",
       "    <tr>\n",
       "      <th>53568</th>\n",
       "      <td>128124</td>\n",
       "      <td>20220831</td>\n",
       "      <td>-9999</td>\n",
       "      <td>9</td>\n",
       "      <td>-999.9</td>\n",
       "    </tr>\n",
       "  </tbody>\n",
       "</table>\n",
       "<p>53569 rows × 5 columns</p>\n",
       "</div>"
      ],
      "text/plain": [
       "        SOUID      DATE    TG  Q_TG   TEMP\n",
       "0      127488  18760101    22     0    2.2\n",
       "1      127488  18760102    25     0    2.5\n",
       "2      127488  18760103     3     0    0.3\n",
       "3      127488  18760104   -58     0   -5.8\n",
       "4      127488  18760105   -98     0   -9.8\n",
       "...       ...       ...   ...   ...    ...\n",
       "53564  111448  20220827   205     0   20.5\n",
       "53565  111448  20220828   177     0   17.7\n",
       "53566  127932  20220829   165     0   16.5\n",
       "53567  127932  20220830   173     0   17.3\n",
       "53568  128124  20220831 -9999     9 -999.9\n",
       "\n",
       "[53569 rows x 5 columns]"
      ]
     },
     "execution_count": 50,
     "metadata": {},
     "output_type": "execute_result"
    }
   ],
   "source": [
    "df['DATE'] = df['DATE'].astype('string')\n",
    "df"
   ]
  },
  {
   "cell_type": "markdown",
   "id": "a7c534cc-7621-4b26-892d-2945e1e641d6",
   "metadata": {},
   "source": [
    "Second, use the following expression to slice off year, month and day:"
   ]
  },
  {
   "cell_type": "code",
   "execution_count": 51,
   "id": "c4f7cfe8-bfac-492c-a463-3906804151af",
   "metadata": {},
   "outputs": [
    {
     "data": {
      "text/html": [
       "<div>\n",
       "<style scoped>\n",
       "    .dataframe tbody tr th:only-of-type {\n",
       "        vertical-align: middle;\n",
       "    }\n",
       "\n",
       "    .dataframe tbody tr th {\n",
       "        vertical-align: top;\n",
       "    }\n",
       "\n",
       "    .dataframe thead th {\n",
       "        text-align: right;\n",
       "    }\n",
       "</style>\n",
       "<table border=\"1\" class=\"dataframe\">\n",
       "  <thead>\n",
       "    <tr style=\"text-align: right;\">\n",
       "      <th></th>\n",
       "      <th>SOUID</th>\n",
       "      <th>DATE</th>\n",
       "      <th>TG</th>\n",
       "      <th>Q_TG</th>\n",
       "      <th>TEMP</th>\n",
       "      <th>Y</th>\n",
       "      <th>M</th>\n",
       "      <th>D</th>\n",
       "    </tr>\n",
       "  </thead>\n",
       "  <tbody>\n",
       "    <tr>\n",
       "      <th>0</th>\n",
       "      <td>127488</td>\n",
       "      <td>18760101</td>\n",
       "      <td>22</td>\n",
       "      <td>0</td>\n",
       "      <td>2.2</td>\n",
       "      <td>1876</td>\n",
       "      <td>01</td>\n",
       "      <td>01</td>\n",
       "    </tr>\n",
       "    <tr>\n",
       "      <th>1</th>\n",
       "      <td>127488</td>\n",
       "      <td>18760102</td>\n",
       "      <td>25</td>\n",
       "      <td>0</td>\n",
       "      <td>2.5</td>\n",
       "      <td>1876</td>\n",
       "      <td>01</td>\n",
       "      <td>02</td>\n",
       "    </tr>\n",
       "    <tr>\n",
       "      <th>2</th>\n",
       "      <td>127488</td>\n",
       "      <td>18760103</td>\n",
       "      <td>3</td>\n",
       "      <td>0</td>\n",
       "      <td>0.3</td>\n",
       "      <td>1876</td>\n",
       "      <td>01</td>\n",
       "      <td>03</td>\n",
       "    </tr>\n",
       "    <tr>\n",
       "      <th>3</th>\n",
       "      <td>127488</td>\n",
       "      <td>18760104</td>\n",
       "      <td>-58</td>\n",
       "      <td>0</td>\n",
       "      <td>-5.8</td>\n",
       "      <td>1876</td>\n",
       "      <td>01</td>\n",
       "      <td>04</td>\n",
       "    </tr>\n",
       "    <tr>\n",
       "      <th>4</th>\n",
       "      <td>127488</td>\n",
       "      <td>18760105</td>\n",
       "      <td>-98</td>\n",
       "      <td>0</td>\n",
       "      <td>-9.8</td>\n",
       "      <td>1876</td>\n",
       "      <td>01</td>\n",
       "      <td>05</td>\n",
       "    </tr>\n",
       "    <tr>\n",
       "      <th>...</th>\n",
       "      <td>...</td>\n",
       "      <td>...</td>\n",
       "      <td>...</td>\n",
       "      <td>...</td>\n",
       "      <td>...</td>\n",
       "      <td>...</td>\n",
       "      <td>...</td>\n",
       "      <td>...</td>\n",
       "    </tr>\n",
       "    <tr>\n",
       "      <th>53564</th>\n",
       "      <td>111448</td>\n",
       "      <td>20220827</td>\n",
       "      <td>205</td>\n",
       "      <td>0</td>\n",
       "      <td>20.5</td>\n",
       "      <td>2022</td>\n",
       "      <td>08</td>\n",
       "      <td>27</td>\n",
       "    </tr>\n",
       "    <tr>\n",
       "      <th>53565</th>\n",
       "      <td>111448</td>\n",
       "      <td>20220828</td>\n",
       "      <td>177</td>\n",
       "      <td>0</td>\n",
       "      <td>17.7</td>\n",
       "      <td>2022</td>\n",
       "      <td>08</td>\n",
       "      <td>28</td>\n",
       "    </tr>\n",
       "    <tr>\n",
       "      <th>53566</th>\n",
       "      <td>127932</td>\n",
       "      <td>20220829</td>\n",
       "      <td>165</td>\n",
       "      <td>0</td>\n",
       "      <td>16.5</td>\n",
       "      <td>2022</td>\n",
       "      <td>08</td>\n",
       "      <td>29</td>\n",
       "    </tr>\n",
       "    <tr>\n",
       "      <th>53567</th>\n",
       "      <td>127932</td>\n",
       "      <td>20220830</td>\n",
       "      <td>173</td>\n",
       "      <td>0</td>\n",
       "      <td>17.3</td>\n",
       "      <td>2022</td>\n",
       "      <td>08</td>\n",
       "      <td>30</td>\n",
       "    </tr>\n",
       "    <tr>\n",
       "      <th>53568</th>\n",
       "      <td>128124</td>\n",
       "      <td>20220831</td>\n",
       "      <td>-9999</td>\n",
       "      <td>9</td>\n",
       "      <td>-999.9</td>\n",
       "      <td>2022</td>\n",
       "      <td>08</td>\n",
       "      <td>31</td>\n",
       "    </tr>\n",
       "  </tbody>\n",
       "</table>\n",
       "<p>53569 rows × 8 columns</p>\n",
       "</div>"
      ],
      "text/plain": [
       "        SOUID      DATE    TG  Q_TG   TEMP     Y   M   D\n",
       "0      127488  18760101    22     0    2.2  1876  01  01\n",
       "1      127488  18760102    25     0    2.5  1876  01  02\n",
       "2      127488  18760103     3     0    0.3  1876  01  03\n",
       "3      127488  18760104   -58     0   -5.8  1876  01  04\n",
       "4      127488  18760105   -98     0   -9.8  1876  01  05\n",
       "...       ...       ...   ...   ...    ...   ...  ..  ..\n",
       "53564  111448  20220827   205     0   20.5  2022  08  27\n",
       "53565  111448  20220828   177     0   17.7  2022  08  28\n",
       "53566  127932  20220829   165     0   16.5  2022  08  29\n",
       "53567  127932  20220830   173     0   17.3  2022  08  30\n",
       "53568  128124  20220831 -9999     9 -999.9  2022  08  31\n",
       "\n",
       "[53569 rows x 8 columns]"
      ]
     },
     "execution_count": 51,
     "metadata": {},
     "output_type": "execute_result"
    }
   ],
   "source": [
    "df['Y'] = df['DATE'].str[:4]\n",
    "df['M'] = df['DATE'].str[4:6]\n",
    "df['D'] = df['DATE'].str[6:8]\n",
    "df"
   ]
  },
  {
   "cell_type": "markdown",
   "id": "093b815e-c485-43eb-b65a-df20f5b4b24b",
   "metadata": {},
   "source": [
    "Put the elements into separate columns. Then, create a new date column via string concatenation:"
   ]
  },
  {
   "cell_type": "code",
   "execution_count": 52,
   "id": "d502b600-7ee9-4b4c-9c43-ec96f7b1320b",
   "metadata": {},
   "outputs": [
    {
     "data": {
      "text/html": [
       "<div>\n",
       "<style scoped>\n",
       "    .dataframe tbody tr th:only-of-type {\n",
       "        vertical-align: middle;\n",
       "    }\n",
       "\n",
       "    .dataframe tbody tr th {\n",
       "        vertical-align: top;\n",
       "    }\n",
       "\n",
       "    .dataframe thead th {\n",
       "        text-align: right;\n",
       "    }\n",
       "</style>\n",
       "<table border=\"1\" class=\"dataframe\">\n",
       "  <thead>\n",
       "    <tr style=\"text-align: right;\">\n",
       "      <th></th>\n",
       "      <th>SOUID</th>\n",
       "      <th>DATE</th>\n",
       "      <th>TG</th>\n",
       "      <th>Q_TG</th>\n",
       "      <th>TEMP</th>\n",
       "      <th>Y</th>\n",
       "      <th>M</th>\n",
       "      <th>D</th>\n",
       "    </tr>\n",
       "  </thead>\n",
       "  <tbody>\n",
       "    <tr>\n",
       "      <th>0</th>\n",
       "      <td>127488</td>\n",
       "      <td>1876-01-01</td>\n",
       "      <td>22</td>\n",
       "      <td>0</td>\n",
       "      <td>2.2</td>\n",
       "      <td>1876</td>\n",
       "      <td>01</td>\n",
       "      <td>01</td>\n",
       "    </tr>\n",
       "    <tr>\n",
       "      <th>1</th>\n",
       "      <td>127488</td>\n",
       "      <td>1876-01-02</td>\n",
       "      <td>25</td>\n",
       "      <td>0</td>\n",
       "      <td>2.5</td>\n",
       "      <td>1876</td>\n",
       "      <td>01</td>\n",
       "      <td>02</td>\n",
       "    </tr>\n",
       "    <tr>\n",
       "      <th>2</th>\n",
       "      <td>127488</td>\n",
       "      <td>1876-01-03</td>\n",
       "      <td>3</td>\n",
       "      <td>0</td>\n",
       "      <td>0.3</td>\n",
       "      <td>1876</td>\n",
       "      <td>01</td>\n",
       "      <td>03</td>\n",
       "    </tr>\n",
       "    <tr>\n",
       "      <th>3</th>\n",
       "      <td>127488</td>\n",
       "      <td>1876-01-04</td>\n",
       "      <td>-58</td>\n",
       "      <td>0</td>\n",
       "      <td>-5.8</td>\n",
       "      <td>1876</td>\n",
       "      <td>01</td>\n",
       "      <td>04</td>\n",
       "    </tr>\n",
       "    <tr>\n",
       "      <th>4</th>\n",
       "      <td>127488</td>\n",
       "      <td>1876-01-05</td>\n",
       "      <td>-98</td>\n",
       "      <td>0</td>\n",
       "      <td>-9.8</td>\n",
       "      <td>1876</td>\n",
       "      <td>01</td>\n",
       "      <td>05</td>\n",
       "    </tr>\n",
       "    <tr>\n",
       "      <th>...</th>\n",
       "      <td>...</td>\n",
       "      <td>...</td>\n",
       "      <td>...</td>\n",
       "      <td>...</td>\n",
       "      <td>...</td>\n",
       "      <td>...</td>\n",
       "      <td>...</td>\n",
       "      <td>...</td>\n",
       "    </tr>\n",
       "    <tr>\n",
       "      <th>53564</th>\n",
       "      <td>111448</td>\n",
       "      <td>2022-08-27</td>\n",
       "      <td>205</td>\n",
       "      <td>0</td>\n",
       "      <td>20.5</td>\n",
       "      <td>2022</td>\n",
       "      <td>08</td>\n",
       "      <td>27</td>\n",
       "    </tr>\n",
       "    <tr>\n",
       "      <th>53565</th>\n",
       "      <td>111448</td>\n",
       "      <td>2022-08-28</td>\n",
       "      <td>177</td>\n",
       "      <td>0</td>\n",
       "      <td>17.7</td>\n",
       "      <td>2022</td>\n",
       "      <td>08</td>\n",
       "      <td>28</td>\n",
       "    </tr>\n",
       "    <tr>\n",
       "      <th>53566</th>\n",
       "      <td>127932</td>\n",
       "      <td>2022-08-29</td>\n",
       "      <td>165</td>\n",
       "      <td>0</td>\n",
       "      <td>16.5</td>\n",
       "      <td>2022</td>\n",
       "      <td>08</td>\n",
       "      <td>29</td>\n",
       "    </tr>\n",
       "    <tr>\n",
       "      <th>53567</th>\n",
       "      <td>127932</td>\n",
       "      <td>2022-08-30</td>\n",
       "      <td>173</td>\n",
       "      <td>0</td>\n",
       "      <td>17.3</td>\n",
       "      <td>2022</td>\n",
       "      <td>08</td>\n",
       "      <td>30</td>\n",
       "    </tr>\n",
       "    <tr>\n",
       "      <th>53568</th>\n",
       "      <td>128124</td>\n",
       "      <td>2022-08-31</td>\n",
       "      <td>-9999</td>\n",
       "      <td>9</td>\n",
       "      <td>-999.9</td>\n",
       "      <td>2022</td>\n",
       "      <td>08</td>\n",
       "      <td>31</td>\n",
       "    </tr>\n",
       "  </tbody>\n",
       "</table>\n",
       "<p>53569 rows × 8 columns</p>\n",
       "</div>"
      ],
      "text/plain": [
       "        SOUID        DATE    TG  Q_TG   TEMP     Y   M   D\n",
       "0      127488  1876-01-01    22     0    2.2  1876  01  01\n",
       "1      127488  1876-01-02    25     0    2.5  1876  01  02\n",
       "2      127488  1876-01-03     3     0    0.3  1876  01  03\n",
       "3      127488  1876-01-04   -58     0   -5.8  1876  01  04\n",
       "4      127488  1876-01-05   -98     0   -9.8  1876  01  05\n",
       "...       ...         ...   ...   ...    ...   ...  ..  ..\n",
       "53564  111448  2022-08-27   205     0   20.5  2022  08  27\n",
       "53565  111448  2022-08-28   177     0   17.7  2022  08  28\n",
       "53566  127932  2022-08-29   165     0   16.5  2022  08  29\n",
       "53567  127932  2022-08-30   173     0   17.3  2022  08  30\n",
       "53568  128124  2022-08-31 -9999     9 -999.9  2022  08  31\n",
       "\n",
       "[53569 rows x 8 columns]"
      ]
     },
     "execution_count": 52,
     "metadata": {},
     "output_type": "execute_result"
    }
   ],
   "source": [
    "df['DATE'] = df['Y']+'-'+df['M']+'-'+df['D']\n",
    "df"
   ]
  },
  {
   "cell_type": "markdown",
   "id": "343b044c-8d8d-4e90-bf6d-bbbb44822ef0",
   "metadata": {},
   "source": [
    "The final date column should have the format YYYY-MM-DD. Now you can convert the strings with dates into a timestamp index with:"
   ]
  },
  {
   "cell_type": "code",
   "execution_count": 53,
   "id": "7b7f85d6-48ed-4018-a70f-0e4bd6342309",
   "metadata": {},
   "outputs": [],
   "source": [
    "df = df.set_index(pd.to_datetime(df['DATE']))"
   ]
  },
  {
   "cell_type": "markdown",
   "id": "c57e5135-2766-4c77-9084-d1000906fb51",
   "metadata": {},
   "source": [
    "Plot the temperature as a line plot again. Now, the x-axis should look much better."
   ]
  },
  {
   "cell_type": "code",
   "execution_count": 54,
   "id": "93a00f97-77fe-472e-8c44-29f8ce8b0bd3",
   "metadata": {},
   "outputs": [
    {
     "data": {
      "text/plain": [
       "<AxesSubplot:xlabel='Y'>"
      ]
     },
     "execution_count": 54,
     "metadata": {},
     "output_type": "execute_result"
    },
    {
     "data": {
      "image/png": "[encoded data removed]",
      "text/plain": [
       "<Figure size 640x480 with 1 Axes>"
      ]
     },
     "metadata": {},
     "output_type": "display_data"
    }
   ],
   "source": [
    "df.plot(y='TEMP', x ='Y')"
   ]
  },
  {
   "cell_type": "markdown",
   "id": "ed35f84d-a101-4417-8826-9bd75eca04b5",
   "metadata": {},
   "source": [
    "### Step 5: Missing Values\n",
    "For some cities, the data may contain missing values. In the original files the value -9999 is used. This can be done with the replace() method:"
   ]
  },
  {
   "cell_type": "code",
   "execution_count": 55,
   "id": "4b06bae3-6acc-4489-b3d2-d75b119c2c31",
   "metadata": {},
   "outputs": [
    {
     "data": {
      "text/html": [
       "<div>\n",
       "<style scoped>\n",
       "    .dataframe tbody tr th:only-of-type {\n",
       "        vertical-align: middle;\n",
       "    }\n",
       "\n",
       "    .dataframe tbody tr th {\n",
       "        vertical-align: top;\n",
       "    }\n",
       "\n",
       "    .dataframe thead th {\n",
       "        text-align: right;\n",
       "    }\n",
       "</style>\n",
       "<table border=\"1\" class=\"dataframe\">\n",
       "  <thead>\n",
       "    <tr style=\"text-align: right;\">\n",
       "      <th></th>\n",
       "      <th>SOUID</th>\n",
       "      <th>DATE</th>\n",
       "      <th>TG</th>\n",
       "      <th>Q_TG</th>\n",
       "      <th>TEMP</th>\n",
       "      <th>Y</th>\n",
       "      <th>M</th>\n",
       "      <th>D</th>\n",
       "    </tr>\n",
       "    <tr>\n",
       "      <th>DATE</th>\n",
       "      <th></th>\n",
       "      <th></th>\n",
       "      <th></th>\n",
       "      <th></th>\n",
       "      <th></th>\n",
       "      <th></th>\n",
       "      <th></th>\n",
       "      <th></th>\n",
       "    </tr>\n",
       "  </thead>\n",
       "  <tbody>\n",
       "    <tr>\n",
       "      <th>1876-01-01</th>\n",
       "      <td>127488</td>\n",
       "      <td>1876-01-01</td>\n",
       "      <td>22</td>\n",
       "      <td>0</td>\n",
       "      <td>2.200000</td>\n",
       "      <td>1876</td>\n",
       "      <td>01</td>\n",
       "      <td>01</td>\n",
       "    </tr>\n",
       "    <tr>\n",
       "      <th>1876-01-02</th>\n",
       "      <td>127488</td>\n",
       "      <td>1876-01-02</td>\n",
       "      <td>25</td>\n",
       "      <td>0</td>\n",
       "      <td>2.500000</td>\n",
       "      <td>1876</td>\n",
       "      <td>01</td>\n",
       "      <td>02</td>\n",
       "    </tr>\n",
       "    <tr>\n",
       "      <th>1876-01-03</th>\n",
       "      <td>127488</td>\n",
       "      <td>1876-01-03</td>\n",
       "      <td>3</td>\n",
       "      <td>0</td>\n",
       "      <td>0.300000</td>\n",
       "      <td>1876</td>\n",
       "      <td>01</td>\n",
       "      <td>03</td>\n",
       "    </tr>\n",
       "    <tr>\n",
       "      <th>1876-01-04</th>\n",
       "      <td>127488</td>\n",
       "      <td>1876-01-04</td>\n",
       "      <td>-58</td>\n",
       "      <td>0</td>\n",
       "      <td>-5.800000</td>\n",
       "      <td>1876</td>\n",
       "      <td>01</td>\n",
       "      <td>04</td>\n",
       "    </tr>\n",
       "    <tr>\n",
       "      <th>1876-01-05</th>\n",
       "      <td>127488</td>\n",
       "      <td>1876-01-05</td>\n",
       "      <td>-98</td>\n",
       "      <td>0</td>\n",
       "      <td>-9.800000</td>\n",
       "      <td>1876</td>\n",
       "      <td>01</td>\n",
       "      <td>05</td>\n",
       "    </tr>\n",
       "    <tr>\n",
       "      <th>...</th>\n",
       "      <td>...</td>\n",
       "      <td>...</td>\n",
       "      <td>...</td>\n",
       "      <td>...</td>\n",
       "      <td>...</td>\n",
       "      <td>...</td>\n",
       "      <td>...</td>\n",
       "      <td>...</td>\n",
       "    </tr>\n",
       "    <tr>\n",
       "      <th>2022-08-27</th>\n",
       "      <td>111448</td>\n",
       "      <td>2022-08-27</td>\n",
       "      <td>205</td>\n",
       "      <td>0</td>\n",
       "      <td>20.500000</td>\n",
       "      <td>2022</td>\n",
       "      <td>08</td>\n",
       "      <td>27</td>\n",
       "    </tr>\n",
       "    <tr>\n",
       "      <th>2022-08-28</th>\n",
       "      <td>111448</td>\n",
       "      <td>2022-08-28</td>\n",
       "      <td>177</td>\n",
       "      <td>0</td>\n",
       "      <td>17.700000</td>\n",
       "      <td>2022</td>\n",
       "      <td>08</td>\n",
       "      <td>28</td>\n",
       "    </tr>\n",
       "    <tr>\n",
       "      <th>2022-08-29</th>\n",
       "      <td>127932</td>\n",
       "      <td>2022-08-29</td>\n",
       "      <td>165</td>\n",
       "      <td>0</td>\n",
       "      <td>16.500000</td>\n",
       "      <td>2022</td>\n",
       "      <td>08</td>\n",
       "      <td>29</td>\n",
       "    </tr>\n",
       "    <tr>\n",
       "      <th>2022-08-30</th>\n",
       "      <td>127932</td>\n",
       "      <td>2022-08-30</td>\n",
       "      <td>173</td>\n",
       "      <td>0</td>\n",
       "      <td>17.300000</td>\n",
       "      <td>2022</td>\n",
       "      <td>08</td>\n",
       "      <td>30</td>\n",
       "    </tr>\n",
       "    <tr>\n",
       "      <th>2022-08-31</th>\n",
       "      <td>128124</td>\n",
       "      <td>2022-08-31</td>\n",
       "      <td>-9999</td>\n",
       "      <td>9</td>\n",
       "      <td>5.691023</td>\n",
       "      <td>2022</td>\n",
       "      <td>08</td>\n",
       "      <td>31</td>\n",
       "    </tr>\n",
       "  </tbody>\n",
       "</table>\n",
       "<p>53569 rows × 8 columns</p>\n",
       "</div>"
      ],
      "text/plain": [
       "             SOUID        DATE    TG  Q_TG       TEMP     Y   M   D\n",
       "DATE                                                               \n",
       "1876-01-01  127488  1876-01-01    22     0   2.200000  1876  01  01\n",
       "1876-01-02  127488  1876-01-02    25     0   2.500000  1876  01  02\n",
       "1876-01-03  127488  1876-01-03     3     0   0.300000  1876  01  03\n",
       "1876-01-04  127488  1876-01-04   -58     0  -5.800000  1876  01  04\n",
       "1876-01-05  127488  1876-01-05   -98     0  -9.800000  1876  01  05\n",
       "...            ...         ...   ...   ...        ...   ...  ..  ..\n",
       "2022-08-27  111448  2022-08-27   205     0  20.500000  2022  08  27\n",
       "2022-08-28  111448  2022-08-28   177     0  17.700000  2022  08  28\n",
       "2022-08-29  127932  2022-08-29   165     0  16.500000  2022  08  29\n",
       "2022-08-30  127932  2022-08-30   173     0  17.300000  2022  08  30\n",
       "2022-08-31  128124  2022-08-31 -9999     9   5.691023  2022  08  31\n",
       "\n",
       "[53569 rows x 8 columns]"
      ]
     },
     "execution_count": 55,
     "metadata": {},
     "output_type": "execute_result"
    }
   ],
   "source": [
    "median = df['TEMP'].mean()\n",
    "df['TEMP'] = df['TEMP'].replace(-999.9, median)\n",
    "\n",
    "df"
   ]
  },
  {
   "cell_type": "markdown",
   "id": "b62c9621-495a-4f6a-be82-5f622ffb5eec",
   "metadata": {},
   "source": [
    "As a new value, use the overall median temperature. Place the result of the expression in a new column."
   ]
  },
  {
   "cell_type": "code",
   "execution_count": 56,
   "id": "a1a69598-3162-40b1-a8a1-46f66721238c",
   "metadata": {},
   "outputs": [
    {
     "data": {
      "text/plain": [
       "<AxesSubplot:xlabel='DATE'>"
      ]
     },
     "execution_count": 56,
     "metadata": {},
     "output_type": "execute_result"
    },
    {
     "data": {
      "image/png": "[encoded data removed]",
      "text/plain": [
       "<Figure size 640x480 with 1 Axes>"
      ]
     },
     "metadata": {},
     "output_type": "display_data"
    }
   ],
   "source": [
    "df['TEMP'].plot.line(y='YEAR')"
   ]
  },
  {
   "cell_type": "markdown",
   "id": "f0077bb3-ce70-41bd-bbe4-8101a1be3fe2",
   "metadata": {},
   "source": [
    "### Step 6: Cut off the last year\n",
    "Before calculating median temperatures, make sure the last year is complete as well. It can be cut off by slicing the index with a simple date string. Pandas takes care of the parsing:"
   ]
  },
  {
   "cell_type": "code",
   "execution_count": 57,
   "id": "eb7fc238-d432-42f4-8237-deb41b5e8ac8",
   "metadata": {},
   "outputs": [
    {
     "data": {
      "text/plain": [
       "SOUID        111448\n",
       "DATE     2021-12-31\n",
       "TG              130\n",
       "Q_TG              0\n",
       "TEMP           13.0\n",
       "Y              2021\n",
       "M                12\n",
       "D                31\n",
       "Name: 2021-12-31 00:00:00, dtype: object"
      ]
     },
     "execution_count": 57,
     "metadata": {},
     "output_type": "execute_result"
    }
   ],
   "source": [
    "df.loc['2021-12-31']"
   ]
  },
  {
   "cell_type": "markdown",
   "id": "a0900d46-db3a-4996-be54-881b21942e19",
   "metadata": {},
   "source": [
    "### tep 7: Aggregate\n",
    "Now reduce the data to one value per year using the median. This could be done with a df.groupby():"
   ]
  },
  {
   "cell_type": "code",
   "execution_count": 58,
   "id": "a3a90735-b0ed-4728-99c1-c2e62eb9d8e4",
   "metadata": {},
   "outputs": [
    {
     "data": {
      "text/plain": [
       "Y\n",
       "1876     9.40\n",
       "1877     8.50\n",
       "1878    10.90\n",
       "1879     7.90\n",
       "1880     9.05\n",
       "        ...  \n",
       "2018    12.20\n",
       "2019    10.90\n",
       "2020    10.90\n",
       "2021    10.00\n",
       "2022    12.50\n",
       "Name: TEMP, Length: 147, dtype: float64"
      ]
     },
     "execution_count": 58,
     "metadata": {},
     "output_type": "execute_result"
    }
   ],
   "source": [
    "df.groupby('Y')['TEMP'].median()"
   ]
  },
  {
   "cell_type": "markdown",
   "id": "c828e8f1-d644-4c33-b001-07ff33a2a3d9",
   "metadata": {},
   "source": [
    "However, with a timestamp index it is better to use df.resample():"
   ]
  },
  {
   "cell_type": "code",
   "execution_count": 61,
   "id": "bd9e6798-2cea-4a2e-8ed4-7815e0fe9983",
   "metadata": {},
   "outputs": [
    {
     "data": {
      "text/plain": [
       "<AxesSubplot:xlabel='DATE'>"
      ]
     },
     "execution_count": 61,
     "metadata": {},
     "output_type": "execute_result"
    },
    {
     "data": {
      "image/png": "[encoded data removed]",
      "text/plain": [
       "<Figure size 640x480 with 1 Axes>"
      ]
     },
     "metadata": {},
     "output_type": "display_data"
    }
   ],
   "source": [
    "yearly = df['TEMP'].resample('Y').median()\n",
    "yearly.plot()"
   ]
  },
  {
   "cell_type": "markdown",
   "id": "9d4254d7-44f2-4ba8-ac79-f9585273216a",
   "metadata": {},
   "source": [
    "The resampling has the advantage that you still have a timestamp index after the operation.\n",
    "\n",
    "You may want to create a DataFrame out of the series:"
   ]
  },
  {
   "cell_type": "code",
   "execution_count": 63,
   "id": "c432a1b1-f59a-4890-b03e-54c68a362c0c",
   "metadata": {},
   "outputs": [
    {
     "data": {
      "text/plain": [
       "<AxesSubplot:xlabel='DATE'>"
      ]
     },
     "execution_count": 63,
     "metadata": {},
     "output_type": "execute_result"
    },
    {
     "data": {
      "image/png": "[encoded data removed]",
      "text/plain": [
       "<Figure size 640x480 with 1 Axes>"
      ]
     },
     "metadata": {},
     "output_type": "display_data"
    }
   ],
   "source": [
    "df = pd.DataFrame(yearly)\n",
    "df.plot()"
   ]
  },
  {
   "cell_type": "markdown",
   "id": "6d517f25-7558-40fb-9221-eca1aa91e97b",
   "metadata": {},
   "source": [
    "### Step 7: Heatmap\n",
    "The seaborn library has a heatmap function that you can use to plot the stripes."
   ]
  },
  {
   "cell_type": "code",
   "execution_count": 64,
   "id": "ca952b4a-6acd-4e06-a89d-92bc9a545baa",
   "metadata": {},
   "outputs": [
    {
     "data": {
      "text/html": [
       "<div>\n",
       "<style scoped>\n",
       "    .dataframe tbody tr th:only-of-type {\n",
       "        vertical-align: middle;\n",
       "    }\n",
       "\n",
       "    .dataframe tbody tr th {\n",
       "        vertical-align: top;\n",
       "    }\n",
       "\n",
       "    .dataframe thead th {\n",
       "        text-align: right;\n",
       "    }\n",
       "</style>\n",
       "<table border=\"1\" class=\"dataframe\">\n",
       "  <thead>\n",
       "    <tr style=\"text-align: right;\">\n",
       "      <th>DATE</th>\n",
       "      <th>1876</th>\n",
       "      <th>1877</th>\n",
       "      <th>1878</th>\n",
       "      <th>1879</th>\n",
       "      <th>1880</th>\n",
       "      <th>1881</th>\n",
       "      <th>1882</th>\n",
       "      <th>1883</th>\n",
       "      <th>1884</th>\n",
       "      <th>1885</th>\n",
       "      <th>...</th>\n",
       "      <th>2013</th>\n",
       "      <th>2014</th>\n",
       "      <th>2015</th>\n",
       "      <th>2016</th>\n",
       "      <th>2017</th>\n",
       "      <th>2018</th>\n",
       "      <th>2019</th>\n",
       "      <th>2020</th>\n",
       "      <th>2021</th>\n",
       "      <th>2022</th>\n",
       "    </tr>\n",
       "  </thead>\n",
       "  <tbody>\n",
       "    <tr>\n",
       "      <th>TEMP</th>\n",
       "      <td>9.4</td>\n",
       "      <td>8.5</td>\n",
       "      <td>10.9</td>\n",
       "      <td>7.9</td>\n",
       "      <td>9.05</td>\n",
       "      <td>7.8</td>\n",
       "      <td>9.7</td>\n",
       "      <td>7.6</td>\n",
       "      <td>8.35</td>\n",
       "      <td>7.7</td>\n",
       "      <td>...</td>\n",
       "      <td>10.1</td>\n",
       "      <td>11.9</td>\n",
       "      <td>11.0</td>\n",
       "      <td>9.35</td>\n",
       "      <td>10.4</td>\n",
       "      <td>12.2</td>\n",
       "      <td>10.9</td>\n",
       "      <td>10.9</td>\n",
       "      <td>10.0</td>\n",
       "      <td>12.5</td>\n",
       "    </tr>\n",
       "  </tbody>\n",
       "</table>\n",
       "<p>1 rows × 147 columns</p>\n",
       "</div>"
      ],
      "text/plain": [
       "DATE  1876  1877  1878  1879  1880  1881  1882  1883  1884  1885  ...  2013  \\\n",
       "TEMP   9.4   8.5  10.9   7.9  9.05   7.8   9.7   7.6  8.35   7.7  ...  10.1   \n",
       "\n",
       "DATE  2014  2015  2016  2017  2018  2019  2020  2021  2022  \n",
       "TEMP  11.9  11.0  9.35  10.4  12.2  10.9  10.9  10.0  12.5  \n",
       "\n",
       "[1 rows x 147 columns]"
      ]
     },
     "execution_count": 64,
     "metadata": {},
     "output_type": "execute_result"
    }
   ],
   "source": [
    "df1 = pd.DataFrame(yearly) \n",
    "df1.index = df1.index.year \n",
    "df1 = df1.transpose() \n",
    "df1"
   ]
  },
  {
   "cell_type": "code",
   "execution_count": 69,
   "id": "154cf848-7a4f-48a7-b06f-82ecb802632b",
   "metadata": {},
   "outputs": [
    {
     "data": {
      "text/plain": [
       "<AxesSubplot:title={'center':'yearly median temperature in Berlin-Treptow'}, xlabel='DATE'>"
      ]
     },
     "execution_count": 69,
     "metadata": {},
     "output_type": "execute_result"
    },
    {
     "data": {
      "image/png": "[encoded data removed]",
      "text/plain": [
       "<Figure size 1500x500 with 1 Axes>"
      ]
     },
     "metadata": {},
     "output_type": "display_data"
    }
   ],
   "source": [
    "cmap = plt.get_cmap('coolwarm') \n",
    "plt.figure(figsize=(15, 5))\n",
    "plt.title('yearly median temperature in Berlin-Treptow') \n",
    "sns.heatmap(df1, cmap=cmap, cbar=False,)# yticklabels=[], xticklabels=[])"
   ]
  },
  {
   "cell_type": "code",
   "execution_count": null,
   "id": "f9ec68f2-89de-41b1-968b-affdc90213a0",
   "metadata": {},
   "outputs": [],
   "source": []
  }
 ],
 "metadata": {
  "kernelspec": {
   "display_name": "Python 3 (ipykernel)",
   "language": "python",
   "name": "python3"
  },
  "language_info": {
   "codemirror_mode": {
    "name": "ipython",
    "version": 3
   },
   "file_extension": ".py",
   "mimetype": "text/x-python",
   "name": "python",
   "nbconvert_exporter": "python",
   "pygments_lexer": "ipython3",
   "version": "3.8.5"
  }
 },
 "nbformat": 4,
 "nbformat_minor": 5
}
